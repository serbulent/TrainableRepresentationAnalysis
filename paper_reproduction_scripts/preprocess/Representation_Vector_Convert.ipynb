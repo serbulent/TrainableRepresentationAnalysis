{
 "cells": [
  {
   "cell_type": "markdown",
   "metadata": {},
   "source": [
    "### This noteebook converts pkl formatted protein representation dataframes to csv formatted multicoloumn structure"
   ]
  },
  {
   "cell_type": "code",
   "execution_count": 1,
   "metadata": {},
   "outputs": [],
   "source": [
    "import pandas as pd\n",
    "import os\n",
    "import fnmatch\n",
    "from tqdm import tqdm_notebook"
   ]
  },
  {
   "cell_type": "code",
   "execution_count": 2,
   "metadata": {},
   "outputs": [],
   "source": [
    "vector_path = \"/media/DATA/serbulent/DATA/Thesis/ReviewPaper/results/representation_vectors/representation_vector_dataframes/\""
   ]
  },
  {
   "cell_type": "code",
   "execution_count": 77,
   "metadata": {},
   "outputs": [
    {
     "name": "stdout",
     "output_type": "stream",
     "text": [
      "ksep_dataframe.pkl\n",
      "learned_vec.pkl\n",
      "UniRep_dataframe.pkl\n",
      "tcga_embedding_dataframe.pkl\n",
      "mut2vec_processed.pkl\n",
      "bert_avg_dataframe.pkl\n",
      "apaac_dataframe.pkl\n",
      "protVec_dataframe.pkl\n",
      "SeqVec_dataframe.pkl\n",
      "bert_pool_dataframe.pkl\n",
      "Gene2Vec_dataframe.pkl\n"
     ]
    }
   ],
   "source": [
    "for representation_file_name in os.listdir(vector_path):\n",
    "    if fnmatch.fnmatch(representation_file_name, '*.pkl'):\n",
    "        print(representation_file_name)"
   ]
  },
  {
   "cell_type": "code",
   "execution_count": 154,
   "metadata": {},
   "outputs": [
    {
     "data": {
      "text/html": [
       "<div>\n",
       "<style scoped>\n",
       "    .dataframe tbody tr th:only-of-type {\n",
       "        vertical-align: middle;\n",
       "    }\n",
       "\n",
       "    .dataframe tbody tr th {\n",
       "        vertical-align: top;\n",
       "    }\n",
       "\n",
       "    .dataframe thead th {\n",
       "        text-align: right;\n",
       "    }\n",
       "</style>\n",
       "<table border=\"1\" class=\"dataframe\">\n",
       "  <thead>\n",
       "    <tr style=\"text-align: right;\">\n",
       "      <th></th>\n",
       "      <th>Entry</th>\n",
       "      <th>Vector</th>\n",
       "    </tr>\n",
       "  </thead>\n",
       "  <tbody>\n",
       "    <tr>\n",
       "      <th>18400</th>\n",
       "      <td>Q01081</td>\n",
       "      <td>[-0.49330017, -0.71400917, -0.49917564, -0.272...</td>\n",
       "    </tr>\n",
       "    <tr>\n",
       "      <th>18401</th>\n",
       "      <td>O14792</td>\n",
       "      <td>[-0.36116463, -0.7003877, -0.6295121, -0.40289...</td>\n",
       "    </tr>\n",
       "    <tr>\n",
       "      <th>18402</th>\n",
       "      <td>Q5T9S5</td>\n",
       "      <td>[-0.41824302, -0.651322, -0.42872664, -0.29245...</td>\n",
       "    </tr>\n",
       "    <tr>\n",
       "      <th>18403</th>\n",
       "      <td>Q9HBF4</td>\n",
       "      <td>[-0.25364625, -0.7105456, -0.5886928, -0.47590...</td>\n",
       "    </tr>\n",
       "    <tr>\n",
       "      <th>18404</th>\n",
       "      <td>Q6ZV56</td>\n",
       "      <td>[-0.4223378, -0.6079273, -0.61292297, -0.21746...</td>\n",
       "    </tr>\n",
       "    <tr>\n",
       "      <th>18405</th>\n",
       "      <td>O96007</td>\n",
       "      <td>[-0.4133646, -0.76212054, -0.54899573, -0.3930...</td>\n",
       "    </tr>\n",
       "  </tbody>\n",
       "</table>\n",
       "</div>"
      ],
      "text/plain": [
       "        Entry                                             Vector\n",
       "18400  Q01081  [-0.49330017, -0.71400917, -0.49917564, -0.272...\n",
       "18401  O14792  [-0.36116463, -0.7003877, -0.6295121, -0.40289...\n",
       "18402  Q5T9S5  [-0.41824302, -0.651322, -0.42872664, -0.29245...\n",
       "18403  Q9HBF4  [-0.25364625, -0.7105456, -0.5886928, -0.47590...\n",
       "18404  Q6ZV56  [-0.4223378, -0.6079273, -0.61292297, -0.21746...\n",
       "18405  O96007  [-0.4133646, -0.76212054, -0.54899573, -0.3930..."
      ]
     },
     "execution_count": 154,
     "metadata": {},
     "output_type": "execute_result"
    }
   ],
   "source": [
    "representation_file_path = vector_path + \"bert_pool_dataframe.pkl\"\n",
    "representation_dataframe = pd.read_pickle(representation_file_path)\n"
   ]
  },
  {
   "cell_type": "code",
   "execution_count": 155,
   "metadata": {},
   "outputs": [
    {
     "data": {
      "text/html": [
       "<div>\n",
       "<style scoped>\n",
       "    .dataframe tbody tr th:only-of-type {\n",
       "        vertical-align: middle;\n",
       "    }\n",
       "\n",
       "    .dataframe tbody tr th {\n",
       "        vertical-align: top;\n",
       "    }\n",
       "\n",
       "    .dataframe thead th {\n",
       "        text-align: right;\n",
       "    }\n",
       "</style>\n",
       "<table border=\"1\" class=\"dataframe\">\n",
       "  <thead>\n",
       "    <tr style=\"text-align: right;\">\n",
       "      <th></th>\n",
       "      <th>Entry</th>\n",
       "      <th>Vector</th>\n",
       "    </tr>\n",
       "  </thead>\n",
       "  <tbody>\n",
       "    <tr>\n",
       "      <th>18400</th>\n",
       "      <td>Q01081</td>\n",
       "      <td>[-0.49330017, -0.71400917, -0.49917564, -0.272...</td>\n",
       "    </tr>\n",
       "    <tr>\n",
       "      <th>18401</th>\n",
       "      <td>O14792</td>\n",
       "      <td>[-0.36116463, -0.7003877, -0.6295121, -0.40289...</td>\n",
       "    </tr>\n",
       "    <tr>\n",
       "      <th>18402</th>\n",
       "      <td>Q5T9S5</td>\n",
       "      <td>[-0.41824302, -0.651322, -0.42872664, -0.29245...</td>\n",
       "    </tr>\n",
       "    <tr>\n",
       "      <th>18403</th>\n",
       "      <td>Q9HBF4</td>\n",
       "      <td>[-0.25364625, -0.7105456, -0.5886928, -0.47590...</td>\n",
       "    </tr>\n",
       "    <tr>\n",
       "      <th>18404</th>\n",
       "      <td>Q6ZV56</td>\n",
       "      <td>[-0.4223378, -0.6079273, -0.61292297, -0.21746...</td>\n",
       "    </tr>\n",
       "    <tr>\n",
       "      <th>18405</th>\n",
       "      <td>O96007</td>\n",
       "      <td>[-0.4133646, -0.76212054, -0.54899573, -0.3930...</td>\n",
       "    </tr>\n",
       "  </tbody>\n",
       "</table>\n",
       "</div>"
      ],
      "text/plain": [
       "        Entry                                             Vector\n",
       "18400  Q01081  [-0.49330017, -0.71400917, -0.49917564, -0.272...\n",
       "18401  O14792  [-0.36116463, -0.7003877, -0.6295121, -0.40289...\n",
       "18402  Q5T9S5  [-0.41824302, -0.651322, -0.42872664, -0.29245...\n",
       "18403  Q9HBF4  [-0.25364625, -0.7105456, -0.5886928, -0.47590...\n",
       "18404  Q6ZV56  [-0.4223378, -0.6079273, -0.61292297, -0.21746...\n",
       "18405  O96007  [-0.4133646, -0.76212054, -0.54899573, -0.3930..."
      ]
     },
     "execution_count": 155,
     "metadata": {},
     "output_type": "execute_result"
    }
   ],
   "source": [
    "representation_dataframe[18400:18406]"
   ]
  },
  {
   "cell_type": "code",
   "execution_count": 149,
   "metadata": {},
   "outputs": [
    {
     "name": "stdout",
     "output_type": "stream",
     "text": [
      "ksep_dataframe.pkl\n",
      "/media/DATA/serbulent/DATA/Thesis/ReviewPaper/results/representation_vectors/representation_vector_dataframes/ksep_dataframe_multi_col.csv\n",
      "learned_vec.pkl\n",
      "/media/DATA/serbulent/DATA/Thesis/ReviewPaper/results/representation_vectors/representation_vector_dataframes/learned_vec_multi_col.csv\n",
      "UniRep_dataframe.pkl\n",
      "/media/DATA/serbulent/DATA/Thesis/ReviewPaper/results/representation_vectors/representation_vector_dataframes/UniRep_dataframe_multi_col.csv\n",
      "tcga_embedding_dataframe.pkl\n",
      "/media/DATA/serbulent/DATA/Thesis/ReviewPaper/results/representation_vectors/representation_vector_dataframes/tcga_embedding_dataframe_multi_col.csv\n",
      "mut2vec_processed.pkl\n",
      "/media/DATA/serbulent/DATA/Thesis/ReviewPaper/results/representation_vectors/representation_vector_dataframes/mut2vec_processed_multi_col.csv\n",
      "bert_avg_dataframe.pkl\n",
      "/media/DATA/serbulent/DATA/Thesis/ReviewPaper/results/representation_vectors/representation_vector_dataframes/bert_avg_dataframe_multi_col.csv\n",
      "apaac_dataframe.pkl\n",
      "/media/DATA/serbulent/DATA/Thesis/ReviewPaper/results/representation_vectors/representation_vector_dataframes/apaac_dataframe_multi_col.csv\n",
      "protVec_dataframe.pkl\n",
      "/media/DATA/serbulent/DATA/Thesis/ReviewPaper/results/representation_vectors/representation_vector_dataframes/protVec_dataframe_multi_col.csv\n",
      "SeqVec_dataframe.pkl\n",
      "/media/DATA/serbulent/DATA/Thesis/ReviewPaper/results/representation_vectors/representation_vector_dataframes/SeqVec_dataframe_multi_col.csv\n",
      "bert_pool_dataframe.pkl\n",
      "/media/DATA/serbulent/DATA/Thesis/ReviewPaper/results/representation_vectors/representation_vector_dataframes/bert_pool_dataframe_multi_col.csv\n",
      "Gene2Vec_dataframe.pkl\n",
      "/media/DATA/serbulent/DATA/Thesis/ReviewPaper/results/representation_vectors/representation_vector_dataframes/Gene2Vec_dataframe_multi_col.csv\n"
     ]
    }
   ],
   "source": [
    "'''for representation_file_name in os.listdir(vector_path):\n",
    "    if fnmatch.fnmatch(representation_file_name, '*.pkl'):\n",
    "        print(representation_file_name)\n",
    "        #representation_file_name = \"tcga_embedding_dataframe.pkl\"\n",
    "        representation_file_path = vector_path + representation_file_name\n",
    "        representation_dataframe = pd.read_pickle(representation_file_path)\n",
    "        #representation_dataframe[0:10]\n",
    "        entry = pd.DataFrame(representation_dataframe['Entry'])\n",
    "        vector = pd.DataFrame(list(representation_dataframe['Vector']))\n",
    "        multi_col_representation_vector = pd.merge(left=entry,right=vector,left_index=True, right_index=True)\n",
    "        multi_col_file_name = representation_file_name.split(\".\")[0]+\"_multi_col.csv\"\n",
    "        multi_col_file_path = vector_path + multi_col_file_name\n",
    "        print(multi_col_file_path)\n",
    "        multi_col_representation_vector.to_csv(multi_col_file_path, index=False)\n",
    "'''"
   ]
  },
  {
   "cell_type": "code",
   "execution_count": 120,
   "metadata": {},
   "outputs": [
    {
     "data": {
      "application/vnd.jupyter.widget-view+json": {
       "model_id": "bd7f00c5bb7e48eab1462ac2b3e226f2",
       "version_major": 2,
       "version_minor": 0
      },
      "text/plain": [
       "HBox(children=(IntProgress(value=1, bar_style='info', max=1), HTML(value='')))"
      ]
     },
     "metadata": {},
     "output_type": "display_data"
    },
    {
     "name": "stdout",
     "output_type": "stream",
     "text": [
      "\n"
     ]
    }
   ],
   "source": [
    "multi_col_representation_vector_file_path = \\\n",
    "\"/media/DATA/serbulent/DATA/Thesis/ReviewPaper/results/representation_vectors/representation_vector_dataframes/ksep_dataframe_multi_col.csv\"\n",
    "multi_col_representation_vector = pd.read_csv(multi_col_representation_vector_file_path)\n",
    "vals = multi_col_representation_vector.iloc[:,1:(len(multi_col_representation_vector.columns))]\n",
    "original_values_as_df = pd.DataFrame(columns=['Entry', 'Vector'])\n",
    "for index, row in tqdm_notebook(vals.iterrows()):\n",
    "    list_of_floats = [float(item) for item in list(row)]\n",
    "    original_values_as_df.loc[index] = [multi_col_representation_vector.iloc[index]['Entry']] + [list_of_floats]"
   ]
  },
  {
   "cell_type": "code",
   "execution_count": 125,
   "metadata": {},
   "outputs": [],
   "source": [
    "for el in original_values_as_df['Vector']:\n",
    "    if len(el) != 400:\n",
    "        print(el)"
   ]
  },
  {
   "cell_type": "code",
   "execution_count": 5,
   "metadata": {},
   "outputs": [
    {
     "ename": "NameError",
     "evalue": "name 'representation_dataframe' is not defined",
     "output_type": "error",
     "traceback": [
      "\u001b[0;31m---------------------------------------------------------------------------\u001b[0m",
      "\u001b[0;31mNameError\u001b[0m                                 Traceback (most recent call last)",
      "\u001b[0;32m<ipython-input-5-a32987268fb3>\u001b[0m in \u001b[0;36m<module>\u001b[0;34m\u001b[0m\n\u001b[0;32m----> 1\u001b[0;31m \u001b[0mrepresentation_dataframe\u001b[0m\u001b[0;34m[\u001b[0m\u001b[0;36m18400\u001b[0m\u001b[0;34m:\u001b[0m\u001b[0;36m18406\u001b[0m\u001b[0;34m]\u001b[0m\u001b[0;34m\u001b[0m\u001b[0;34m\u001b[0m\u001b[0m\n\u001b[0m",
      "\u001b[0;31mNameError\u001b[0m: name 'representation_dataframe' is not defined"
     ]
    }
   ],
   "source": [
    "representation_dataframe[18400:18406]"
   ]
  }
 ],
 "metadata": {
  "kernelspec": {
   "display_name": "Python 3",
   "language": "python",
   "name": "python3"
  },
  "language_info": {
   "codemirror_mode": {
    "name": "ipython",
    "version": 3
   },
   "file_extension": ".py",
   "mimetype": "text/x-python",
   "name": "python",
   "nbconvert_exporter": "python",
   "pygments_lexer": "ipython3",
   "version": "3.8.0"
  }
 },
 "nbformat": 4,
 "nbformat_minor": 2
}
